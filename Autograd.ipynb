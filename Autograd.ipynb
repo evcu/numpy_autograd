{
 "cells": [
  {
   "cell_type": "code",
   "execution_count": 3,
   "metadata": {
    "collapsed": true
   },
   "outputs": [],
   "source": [
    "class Variable():\n",
    "    __counter = 0\n",
    "    def __init__(self,data,is_leaf=True,backward_fun=None):\n",
    "        if backward_fun is None and not is_leaf:\n",
    "            raise ValueError('non leaf nodes require backward_fun')\n",
    "        self.id = Variable.__counter\n",
    "        Variable.__counter += 1\n",
    "        \n",
    "        self.is_leaf = is_leaf\n",
    "        self.prev = []\n",
    "        self.backward_fun = backward_fun\n",
    "        self.data = data\n",
    "        self.grad = 0\n",
    "        \n",
    "    def backward(self):\n",
    "        self.backward_fun(dy=self.grad)\n",
    "    def __repr__(self):\n",
    "        return f'Variable(id:{self.id}, data:{self.data}, grad:{self.grad}, prev:{list(map(lambda a:a.id,self.prev))}, is_leaf:{self.is_leaf}\\n'\n",
    "def plus(a,b):\n",
    "    if not (isinstance(a,Variable) and isinstance(b,Variable)):\n",
    "        raise ValueError('a,b needs to be a Variable instance')\n",
    "    def b_fun(dy=1):\n",
    "        a.grad += dy\n",
    "        b.grad += dy\n",
    "    res = Variable(a.data+b.data,is_leaf=False,backward_fun=b_fun)\n",
    "    res.prev.extend([a,b])\n",
    "    return res\n",
    "\n",
    "def multiply(a,b):\n",
    "    if not (isinstance(a,Variable) and isinstance(b,Variable)):\n",
    "            raise ValueError('a,b needs to be a Variable instance')\n",
    "    def b_fun(dy=1):\n",
    "        a.grad += b.data*dy\n",
    "        b.grad += a.data*dy\n",
    "    res = Variable(a.data+b.data,is_leaf=False,backward_fun=b_fun)\n",
    "    res.prev.extend([a,b])\n",
    "    return res\n",
    "\n",
    "def c_multiply(a,c):\n",
    "    if not (isinstance(a,Variable) and isinstance(c,(int, float))):\n",
    "        raise ValueError('a needs to be a Variable, c needs to be one of (int, float)')\n",
    "    def b_fun(dy=1):\n",
    "        a.grad += c*dy\n",
    "    res = Variable(a.data*c,is_leaf=False,backward_fun=b_fun)\n",
    "    res.prev.append(a)\n",
    "    return res\n",
    "\n",
    "def top_sort(var):\n",
    "    vars_seen = set()\n",
    "    top_sort = []\n",
    "    def top_sort_helper(vr):\n",
    "        if (vr in vars_seen) or vr.is_leaf:\n",
    "            pass\n",
    "        else:\n",
    "            vars_seen.add(vr)\n",
    "            for pvar in vr.prev:\n",
    "                top_sort_helper(pvar)\n",
    "            top_sort.append(vr)    \n",
    "    top_sort_helper(var)\n",
    "    return top_sort\n",
    "\n",
    "def backward_graph(var):\n",
    "    if not isinstance(var,Variable):\n",
    "        raise ValueError('var needs to be a Variable instance')\n",
    "    tsorted = top_sort(var)\n",
    "    var.grad=1\n",
    "    for var in reversed(tsorted):\n",
    "        var.backward()"
   ]
  },
  {
   "cell_type": "code",
   "execution_count": 4,
   "metadata": {},
   "outputs": [
    {
     "name": "stdout",
     "output_type": "stream",
     "text": [
      "Variable(id:0, data:2, grad:0, prev:[], is_leaf:True\n",
      " Variable(id:1, data:3, grad:0, prev:[], is_leaf:True\n",
      "\n",
      "Variable(id:0, data:2, grad:28, prev:[], is_leaf:True\n",
      " Variable(id:1, data:3, grad:14, prev:[], is_leaf:True\n",
      " Variable(id:2, data:4, grad:14, prev:[0], is_leaf:False\n",
      " Variable(id:3, data:7, grad:14, prev:[2, 1], is_leaf:False\n",
      " Variable(id:4, data:14, grad:1, prev:[3, 3], is_leaf:False\n",
      "\n"
     ]
    }
   ],
   "source": [
    "l1 = Variable(2)\n",
    "l2 = Variable(3)\n",
    "print(l1,l2)\n",
    "\n",
    "n1 = c_multiply(l1,2)\n",
    "n2 = plus(n1,l2)\n",
    "n3 = multiply(n2,n2)\n",
    "# print(c,d)\n",
    "# t_sort = top_sort(d)\n",
    "# print(t_sort)\n",
    "backward_graph(n3)\n",
    "print(l1,l2,n1,n2,n3)"
   ]
  },
  {
   "cell_type": "code",
   "execution_count": null,
   "metadata": {
    "collapsed": true
   },
   "outputs": [],
   "source": []
  }
 ],
 "metadata": {
  "kernelspec": {
   "display_name": "Python 3",
   "language": "python",
   "name": "python3"
  },
  "language_info": {
   "codemirror_mode": {
    "name": "ipython",
    "version": 3
   },
   "file_extension": ".py",
   "mimetype": "text/x-python",
   "name": "python",
   "nbconvert_exporter": "python",
   "pygments_lexer": "ipython3",
   "version": "3.6.3"
  }
 },
 "nbformat": 4,
 "nbformat_minor": 2
}
