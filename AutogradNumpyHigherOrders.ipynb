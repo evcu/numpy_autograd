{
 "cells": [
  {
   "cell_type": "code",
   "execution_count": 20,
   "metadata": {},
   "outputs": [],
   "source": [
    "import numpy as np\n",
    "class Variable():\n",
    "    __counter = 0\n",
    "    def __init__(self,data,is_leaf=True,backward_fun=None,requires_grad=True):\n",
    "        if backward_fun is None and not is_leaf:\n",
    "            raise ValueError('non leaf nodes require backward_fun')\n",
    "        if np.isscalar(data):\n",
    "            data = np.ones(1)*data\n",
    "        if not isinstance(data,np.ndarray):\n",
    "            raise ValueError(f'data should be of type \"numpy.ndarray\" or a scalar,but received {type(data)}')\n",
    "        self.data = data\n",
    "        self.requires_grad = requires_grad\n",
    "        if self.requires_grad:\n",
    "            self.id = Variable.__counter\n",
    "            print(self.id)\n",
    "            Variable.__counter += 1\n",
    "            self.is_leaf = is_leaf\n",
    "            self.prev = []\n",
    "            self.backward_fun = backward_fun\n",
    "            self.grad = Variable(np.zeros(data.shape),requires_grad=False)\n",
    "        \n",
    "    def backward(self):\n",
    "        self.backward_fun(dy=self.grad)\n",
    "        \n",
    "    def __repr__(self):\n",
    "        if self.requires_grad:\n",
    "            return f'Variable(id:{self.id}, data:{self.data}, grad:{self.grad.data}, prev:{list(map(lambda a:a.id,self.prev))}, is_leaf:{self.is_leaf})\\n'\n",
    "        else:\n",
    "            return f'Variable(data:{self.data})'\n",
    "\n",
    "def transpose(a):\n",
    "    if not (isinstance(a,Variable)):\n",
    "        raise ValueError('a needs to be a Variable instance')\n",
    "    def b_fun(dy):\n",
    "        if a.requires_grad:\n",
    "            a.grad = plus(grad,transpose(dy))\n",
    "    res = Variable(a.data.T,is_leaf=False,backward_fun=b_fun)\n",
    "    res.prev.append(a)\n",
    "    return res\n",
    "        \n",
    "def plus(a,b):\n",
    "    if not (isinstance(a,Variable) and isinstance(b,Variable)):\n",
    "        raise ValueError('a,b needs to be a Variable instance')\n",
    "    def b_fun(dy):\n",
    "#         import pdb;pdb.set_trace()\n",
    "        if a.requires_grad:\n",
    "            new_grad_a = plus(a.grad,plus(b.grad,dy))\n",
    "        if b.requires_grad:\n",
    "            b.grad = plus(b.grad,plus(a.grad,dy))\n",
    "        if a.requires_grad:\n",
    "            a.grad = new_grad_a\n",
    "    res = Variable(a.data+b.data,is_leaf=False,backward_fun=b_fun)\n",
    "    res.prev.extend([a,b])\n",
    "    return res\n",
    "\n",
    "def matmul(a,b):\n",
    "    if not (isinstance(a,Variable) and isinstance(b,Variable)):\n",
    "            raise ValueError('a,b needs to be a Variable instance')\n",
    "    def b_fun(dy):\n",
    "        if a.requires_grad:\n",
    "            a.grad = plus(a.grad,matmul(dy,transpose(b)))\n",
    "        if b.requires_grad:\n",
    "            b.grad = plus(b.grad,matmul(transpose(a),dy))\n",
    "    res = Variable(np.matmul(a.data,b.data),is_leaf=False,backward_fun=b_fun)\n",
    "    res.prev.extend([a,b])\n",
    "    return res\n",
    "\n",
    "def c_mul(a,c):\n",
    "    if not (isinstance(a,Variable) and isinstance(c,(int, float))):\n",
    "        raise ValueError('a needs to be a Variable, c needs to be one of (int, float)')\n",
    "    def b_fun(dy=1):\n",
    "        if a.requires_grad:\n",
    "            a.grad = plus(a.grad,c_mul(dy,c)) \n",
    "    res = Variable(a.data*c,is_leaf=False,backward_fun=b_fun)\n",
    "    res.prev.append(a)\n",
    "    return res\n",
    "\n",
    "def top_sort(var):\n",
    "    vars_seen = set()\n",
    "    top_sort = []\n",
    "    def top_sort_helper(vr):\n",
    "        if (vr in vars_seen) or vr.is_leaf:\n",
    "            pass\n",
    "        else:\n",
    "            vars_seen.add(vr)\n",
    "            for pvar in vr.prev:\n",
    "                top_sort_helper(pvar)\n",
    "            top_sort.append(vr)    \n",
    "    top_sort_helper(var)\n",
    "    return top_sort\n",
    "\n",
    "def backward_graph(var):\n",
    "    if not isinstance(var,Variable):\n",
    "        raise ValueError('var needs to be a Variable instance')\n",
    "    tsorted = top_sort(var)\n",
    "    \n",
    "    var.grad=Variable(np.ones(var.data.shape),requires_grad=False)\n",
    "    for var in reversed(tsorted):\n",
    "        var.backward()"
   ]
  },
  {
   "cell_type": "code",
   "execution_count": 21,
   "metadata": {},
   "outputs": [
    {
     "name": "stdout",
     "output_type": "stream",
     "text": [
      "0\n",
      "1\n",
      "2\n",
      "Variable(id:0, data:[2.], grad:[0.], prev:[], is_leaf:True)\n",
      " Variable(id:1, data:[3.], grad:[0.], prev:[], is_leaf:True)\n",
      " Variable(id:2, data:[5.], grad:[0.], prev:[0, 1], is_leaf:False)\n",
      "\n",
      "y\n",
      "3\n",
      "4\n",
      "5\n",
      "6\n",
      "Variable(id:0, data:[2.], grad:[1.], prev:[], is_leaf:True)\n",
      " Variable(id:1, data:[3.], grad:[1.], prev:[], is_leaf:True)\n",
      " Variable(id:2, data:[5.], grad:[1.], prev:[0, 1], is_leaf:False)\n",
      "\n"
     ]
    }
   ],
   "source": [
    "l1 = Variable(2)\n",
    "l2 = Variable(3)\n",
    "r = plus(l1,l2)\n",
    "print(l1,l2,r)\n",
    "backward_graph(r)\n",
    "print(l1,l2,r)"
   ]
  },
  {
   "cell_type": "code",
   "execution_count": 12,
   "metadata": {},
   "outputs": [
    {
     "name": "stdout",
     "output_type": "stream",
     "text": [
      "<built-in function id>\n",
      "<built-in function id>\n",
      "<built-in function id>\n",
      "<built-in function id>\n",
      "<built-in function id>\n",
      "Variable(id:7, data:[2.], grad:[0.], prev:[], is_leaf:True)\n",
      " Variable(id:8, data:[3.], grad:[0.], prev:[], is_leaf:True)\n",
      " Variable(id:9, data:[4.], grad:[0.], prev:[7], is_leaf:False)\n",
      " Variable(id:10, data:[7.], grad:[0.], prev:[9, 8], is_leaf:False)\n",
      " Variable(id:11, data:[49.], grad:[0.], prev:[10, 10], is_leaf:False)\n",
      "\n",
      "<built-in function id>\n",
      "<built-in function id>\n",
      "<built-in function id>\n",
      "<built-in function id>\n",
      "<built-in function id>\n",
      "<built-in function id>\n",
      "<built-in function id>\n",
      "<built-in function id>\n",
      "<built-in function id>\n",
      "<built-in function id>\n",
      "<built-in function id>\n",
      "<built-in function id>\n",
      "Variable(id:7, data:[2.], grad:[28.], prev:[], is_leaf:True)\n",
      " Variable(id:8, data:[3.], grad:[14.], prev:[], is_leaf:True)\n",
      " Variable(id:9, data:[4.], grad:[14.], prev:[7], is_leaf:False)\n",
      " Variable(id:10, data:[7.], grad:[14.], prev:[9, 8], is_leaf:False)\n",
      " Variable(id:11, data:[49.], grad:[1.], prev:[10, 10], is_leaf:False)\n",
      "\n"
     ]
    }
   ],
   "source": [
    "l1 = Variable(2)\n",
    "l2 = Variable(3)\n",
    "\n",
    "n1 = c_mul(l1,2)\n",
    "n2 = plus(n1,l2)\n",
    "n3 = matmul(n2,n2)\n",
    "# print(c,d)\n",
    "# t_sort = top_sort(d)\n",
    "# print(t_sort)\n",
    "print(l1,l2,n1,n2,n3)\n",
    "backward_graph(n3)\n",
    "print(l1,l2,n1,n2,n3)"
   ]
  },
  {
   "cell_type": "code",
   "execution_count": 13,
   "metadata": {},
   "outputs": [
    {
     "ename": "AttributeError",
     "evalue": "'Variable' object has no attribute 'id'",
     "output_type": "error",
     "traceback": [
      "\u001b[0;31m---------------------------------------------------------------------------\u001b[0m",
      "\u001b[0;31mAttributeError\u001b[0m                            Traceback (most recent call last)",
      "\u001b[0;32m<ipython-input-13-1b2a337667d2>\u001b[0m in \u001b[0;36m<module>\u001b[0;34m()\u001b[0m\n\u001b[0;32m----> 1\u001b[0;31m \u001b[0mprint\u001b[0m\u001b[0;34m(\u001b[0m\u001b[0ml2\u001b[0m\u001b[0;34m.\u001b[0m\u001b[0mgrad\u001b[0m\u001b[0;34m)\u001b[0m\u001b[0;34m\u001b[0m\u001b[0m\n\u001b[0m",
      "\u001b[0;32m<ipython-input-10-b1a95d08f856>\u001b[0m in \u001b[0;36m__repr__\u001b[0;34m(self)\u001b[0m\n\u001b[1;32m     25\u001b[0m     \u001b[0;32mdef\u001b[0m \u001b[0m__repr__\u001b[0m\u001b[0;34m(\u001b[0m\u001b[0mself\u001b[0m\u001b[0;34m)\u001b[0m\u001b[0;34m:\u001b[0m\u001b[0;34m\u001b[0m\u001b[0m\n\u001b[1;32m     26\u001b[0m         \u001b[0;32mif\u001b[0m \u001b[0mself\u001b[0m\u001b[0;34m.\u001b[0m\u001b[0mrequires_grad\u001b[0m\u001b[0;34m:\u001b[0m\u001b[0;34m\u001b[0m\u001b[0m\n\u001b[0;32m---> 27\u001b[0;31m             \u001b[0;32mreturn\u001b[0m \u001b[0;34mf'Variable(id:{self.id}, data:{self.data}, grad:{self.grad.data}, prev:{list(map(lambda a:a.id,self.prev))}, is_leaf:{self.is_leaf})\\n'\u001b[0m\u001b[0;34m\u001b[0m\u001b[0m\n\u001b[0m\u001b[1;32m     28\u001b[0m         \u001b[0;32melse\u001b[0m\u001b[0;34m:\u001b[0m\u001b[0;34m\u001b[0m\u001b[0m\n\u001b[1;32m     29\u001b[0m             \u001b[0;32mreturn\u001b[0m \u001b[0;34mf'Variable(data:{self.data})'\u001b[0m\u001b[0;34m\u001b[0m\u001b[0m\n",
      "\u001b[0;32m<ipython-input-10-b1a95d08f856>\u001b[0m in \u001b[0;36m<lambda>\u001b[0;34m(a)\u001b[0m\n\u001b[1;32m     25\u001b[0m     \u001b[0;32mdef\u001b[0m \u001b[0m__repr__\u001b[0m\u001b[0;34m(\u001b[0m\u001b[0mself\u001b[0m\u001b[0;34m)\u001b[0m\u001b[0;34m:\u001b[0m\u001b[0;34m\u001b[0m\u001b[0m\n\u001b[1;32m     26\u001b[0m         \u001b[0;32mif\u001b[0m \u001b[0mself\u001b[0m\u001b[0;34m.\u001b[0m\u001b[0mrequires_grad\u001b[0m\u001b[0;34m:\u001b[0m\u001b[0;34m\u001b[0m\u001b[0m\n\u001b[0;32m---> 27\u001b[0;31m             \u001b[0;32mreturn\u001b[0m \u001b[0;34mf'Variable(id:{self.id}, data:{self.data}, grad:{self.grad.data}, prev:{list(map(lambda a:a.id,self.prev))}, is_leaf:{self.is_leaf})\\n'\u001b[0m\u001b[0;34m\u001b[0m\u001b[0m\n\u001b[0m\u001b[1;32m     28\u001b[0m         \u001b[0;32melse\u001b[0m\u001b[0;34m:\u001b[0m\u001b[0;34m\u001b[0m\u001b[0m\n\u001b[1;32m     29\u001b[0m             \u001b[0;32mreturn\u001b[0m \u001b[0;34mf'Variable(data:{self.data})'\u001b[0m\u001b[0;34m\u001b[0m\u001b[0m\n",
      "\u001b[0;31mAttributeError\u001b[0m: 'Variable' object has no attribute 'id'"
     ]
    }
   ],
   "source": [
    "print(l2.grad)"
   ]
  },
  {
   "cell_type": "code",
   "execution_count": null,
   "metadata": {
    "collapsed": true
   },
   "outputs": [],
   "source": []
  }
 ],
 "metadata": {
  "kernelspec": {
   "display_name": "Python 3",
   "language": "python",
   "name": "python3"
  },
  "language_info": {
   "codemirror_mode": {
    "name": "ipython",
    "version": 3
   },
   "file_extension": ".py",
   "mimetype": "text/x-python",
   "name": "python",
   "nbconvert_exporter": "python",
   "pygments_lexer": "ipython3",
   "version": "3.6.3"
  }
 },
 "nbformat": 4,
 "nbformat_minor": 2
}
