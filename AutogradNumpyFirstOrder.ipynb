{
 "cells": [
  {
   "cell_type": "code",
   "execution_count": 1,
   "metadata": {
    "collapsed": true
   },
   "outputs": [],
   "source": [
    "from my_autograd import *"
   ]
  },
  {
   "cell_type": "code",
   "execution_count": 2,
   "metadata": {},
   "outputs": [
    {
     "name": "stdout",
     "output_type": "stream",
     "text": [
      "Variable(id:0,prev:[],is_leaf:True)\n",
      " Variable(id:1,prev:[],is_leaf:True)\n",
      " Variable(id:2,prev:[0, 1],is_leaf:False)\n",
      "\n",
      "[1.] [1.] [1.]\n"
     ]
    }
   ],
   "source": [
    "l1 = Variable(2)\n",
    "l2 = Variable(3)\n",
    "r = plus(l1,l2)\n",
    "print(l1,l2,r)\n",
    "backward_graph(r)\n",
    "print(l1.grad,l2.grad,r.grad)"
   ]
  },
  {
   "cell_type": "code",
   "execution_count": 3,
   "metadata": {},
   "outputs": [
    {
     "name": "stdout",
     "output_type": "stream",
     "text": [
      "Variable(id:4,prev:[3],is_leaf:False)\n",
      "\n",
      "[1.] [1.]\n"
     ]
    }
   ],
   "source": [
    "l1 = Variable(4)\n",
    "\n",
    "n1 = relu(l1)\n",
    "# print(c,d)\n",
    "# t_sort = top_sort(d)\n",
    "# print(t_sort)\n",
    "print(n1)\n",
    "backward_graph(n1)\n",
    "print(l1.grad,n1.grad)"
   ]
  },
  {
   "cell_type": "code",
   "execution_count": 4,
   "metadata": {},
   "outputs": [
    {
     "name": "stdout",
     "output_type": "stream",
     "text": [
      "Variable(id:5,prev:[],is_leaf:True)\n",
      " Variable(id:6,prev:[],is_leaf:True)\n",
      " Variable(id:7,prev:[5],is_leaf:False)\n",
      " Variable(id:8,prev:[7, 6],is_leaf:False)\n",
      " Variable(id:9,prev:[8, 8],is_leaf:False)\n",
      "\n",
      "[28.] [14.] [14.] [14.] [1.]\n"
     ]
    }
   ],
   "source": [
    "l1 = Variable(2)\n",
    "l2 = Variable(3)\n",
    "\n",
    "n1 = c_mul(l1,2)\n",
    "n2 = plus(n1,l2)\n",
    "n3 = dot(n2,n2)\n",
    "# print(c,d)\n",
    "# t_sort = top_sort(d)\n",
    "# print(t_sort)\n",
    "print(l1,l2,n1,n2,n3)\n",
    "backward_graph(n3)\n",
    "print(l1.grad,l2.grad,n1.grad,n2.grad,n3.grad)"
   ]
  },
  {
   "cell_type": "code",
   "execution_count": 5,
   "metadata": {},
   "outputs": [
    {
     "name": "stdout",
     "output_type": "stream",
     "text": [
      "Variable(id:14,prev:[13],is_leaf:False)\n",
      "\n",
      "[[-2. -1.  0.  1.]\n",
      " [-2. -1.  0.  1.]]\n",
      "[[-4.]\n",
      " [-2.]\n",
      " [ 0.]\n",
      " [ 2.]]\n"
     ]
    }
   ],
   "source": [
    "l1 = Variable(np.arange(-4,4).reshape(2,4))\n",
    "l2 = Variable(np.arange(-2,2).reshape(4,1))\n",
    "\n",
    "n1 = dot(l1,l2)\n",
    "n2 = relu(n1)\n",
    "n3 = sumel(n2)\n",
    "print(n3)\n",
    "backward_graph(n2)\n",
    "print(l1.grad)\n",
    "print(l2.grad)"
   ]
  },
  {
   "cell_type": "markdown",
   "metadata": {},
   "source": [
    "## Linear Regression"
   ]
  },
  {
   "cell_type": "code",
   "execution_count": 7,
   "metadata": {},
   "outputs": [],
   "source": [
    "from setup_ import load_problem\n",
    "x_train, y_train, x_val, y_val, target_fn, coefs_true, featurize = load_problem('lasso_data.pickle')\n"
   ]
  },
  {
   "cell_type": "code",
   "execution_count": 8,
   "metadata": {
    "collapsed": true
   },
   "outputs": [
    {
     "name": "stdout",
     "output_type": "stream",
     "text": [
      "3.712744325274552\n",
      "0.10684565505540264\n",
      "0.0846856036387462\n",
      "0.0726620361092866\n",
      "0.06444887198579205\n",
      "0.05823448435298367\n",
      "0.05327804958657108\n",
      "0.049195271369938495\n",
      "0.04575410598333152\n",
      "0.042801436474701006\n",
      "Time per batch:2.6276983838004524 ms\n"
     ]
    }
   ],
   "source": [
    "import time\n",
    "w = Variable(np.random.uniform(-1/400,1/400,(400,1)))\n",
    "n_step = 5000\n",
    "lr =5e-3\n",
    "l2reg = 0\n",
    "\n",
    "\n",
    "start = time.monotonic()\n",
    "for i in range(n_step):\n",
    "    x = Variable(featurize(x_train))\n",
    "    y = Variable(y_train.reshape(100,1))\n",
    "    predictions = dot(x,w)\n",
    "    residual = minus(y, predictions)\n",
    "    empirical_risk = c_mul(sumel(multiply(residual,residual)),1.0/100)\n",
    "    l2_norm_squared = c_mul(sumel(multiply(w,w)),l2reg)\n",
    "    loss = plus(empirical_risk,l2_norm_squared)\n",
    "    w.zero_grad()\n",
    "    backward_graph(loss)\n",
    "    \n",
    "    if i%(int(n_step/min(10,n_step)))==0: \n",
    "        print(loss.data[0])\n",
    "        \n",
    "    w.step(lr)\n",
    "\n",
    "print(f'Time per batch:{(time.monotonic()-start)*1000/n_step} ms')\n"
   ]
  },
  {
   "cell_type": "code",
   "execution_count": 24,
   "metadata": {},
   "outputs": [
    {
     "data": {
      "text/plain": [
       "(100, 400)"
      ]
     },
     "execution_count": 24,
     "metadata": {},
     "output_type": "execute_result"
    }
   ],
   "source": []
  },
  {
   "cell_type": "code",
   "execution_count": 25,
   "metadata": {
    "collapsed": true
   },
   "outputs": [],
   "source": [
    "n_hidden = 1000\n",
    "\n",
    "class Net():\n",
    "    def __init__(self):\n",
    "        super(Net, self).__init__()\n",
    "        self.fc1 = LinearLayer(400,n_hidden)\n",
    "        self.fc2 = LinearLayer(n_hidden,1)\n",
    "\n",
    "    def forward(self, inp):\n",
    "#         import pdb; pdb.set_trace()\n",
    "        n1 = relu(self.fc1.forward(inp))\n",
    "        return self.fc2.forward(n1)\n",
    "    \n",
    "    def zero_grad(self):\n",
    "        self.fc1.zero_grad()\n",
    "        self.fc2.zero_grad()\n",
    "        \n",
    "    def step(self,lr):\n",
    "        self.fc1.step(lr)\n",
    "        self.fc2.step(lr)\n",
    "\n",
    "model = Net()\n"
   ]
  },
  {
   "cell_type": "code",
   "execution_count": 39,
   "metadata": {
    "collapsed": true
   },
   "outputs": [],
   "source": [
    "n_hidden = [1000,100]\n",
    "x_trainf = featurize(x_train)\n",
    "\n",
    "class Net():\n",
    "    def __init__(self):\n",
    "        super(Net, self).__init__()\n",
    "        self.fc1 = LinearLayer(1,n_hidden[0])\n",
    "        self.fc2 = LinearLayer(n_hidden[0],n_hidden[1])\n",
    "        self.fc3 = LinearLayer(n_hidden[1],1)\n",
    "\n",
    "    def forward(self, inp):\n",
    "#         import pdb; pdb.set_trace()\n",
    "        n1 = relu(self.fc1.forward(inp))\n",
    "        n2 = relu(self.fc2.forward(n1))\n",
    "        return self.fc3.forward(n2)\n",
    "    \n",
    "    def zero_grad(self):\n",
    "        self.fc1.zero_grad()\n",
    "        self.fc2.zero_grad()\n",
    "        self.fc3.zero_grad()\n",
    "        \n",
    "    def step(self,lr):\n",
    "        self.fc1.step(lr)\n",
    "        self.fc2.step(lr)\n",
    "        self.fc3.step(lr)\n",
    "\n",
    "model = Net()\n"
   ]
  },
  {
   "cell_type": "code",
   "execution_count": 41,
   "metadata": {},
   "outputs": [
    {
     "name": "stdout",
     "output_type": "stream",
     "text": [
      "3.565014304294418\n",
      "0.7545691254231508\n",
      "0.7225188883154243\n",
      "0.6730394831502714\n",
      "0.6009741827052749\n",
      "0.5761677974968433\n",
      "0.5574611321262298\n",
      "0.531019189336031\n",
      "0.6399185520263351\n",
      "0.5696023003987734\n",
      "Time per batch:8.99321926599805 ms\n"
     ]
    }
   ],
   "source": [
    "import time\n",
    "n_step = 1000\n",
    "lr =1e-2\n",
    "\n",
    "start = time.monotonic()\n",
    "for i in range(n_step):\n",
    "    a=Variable(x_train.reshape(100,1))\n",
    "    b=Variable(y_train.reshape(100,1))\n",
    "    out = model.forward(a)\n",
    "    residual = minus(out,b)\n",
    "    loss = c_mul(sumel(multiply(residual,residual)),1.0/100)\n",
    "    model.zero_grad()\n",
    "    backward_graph(loss)\n",
    "    \n",
    "    if i%(int(n_step/min(10,n_step)))==0: \n",
    "        print(loss.data[0])\n",
    "        \n",
    "    model.step(lr)\n",
    "\n",
    "print(f'Time per batch:{(time.monotonic()-start)*1000/n_step} ms')"
   ]
  },
  {
   "cell_type": "code",
   "execution_count": 31,
   "metadata": {},
   "outputs": [
    {
     "name": "stdout",
     "output_type": "stream",
     "text": [
      "loss: 3.9526236057281494\n",
      "loss: 0.11519894003868103\n",
      "loss: 0.1014784649014473\n",
      "loss: 0.08726783841848373\n",
      "loss: 0.08665766566991806\n",
      "loss: 0.08059514313936234\n",
      "loss: 0.07851764559745789\n",
      "loss: 0.07874011248350143\n",
      "loss: 0.0764121562242508\n",
      "loss: 0.07304462790489197\n",
      "Time per batch:3.379336179800157 ms\n"
     ]
    }
   ],
   "source": [
    "import torch\n",
    "from torch import autograd\n",
    "import torch.nn.functional as F\n",
    "from torch import nn\n",
    "import torch.optim as optim\n",
    "lr = 1e-3\n",
    "n_step = 5000\n",
    "n_hidden = [100,100]\n",
    "class Net2(nn.Module):\n",
    "    def __init__(self):\n",
    "        super(Net2, self).__init__()\n",
    "        self.fc1 = nn.Linear(1, n_hidden[0])\n",
    "        self.bn1 = nn.BatchNorm1d(n_hidden[0])\n",
    "        self.fc2 = nn.Linear(n_hidden[0], n_hidden[1])\n",
    "        self.bn2 = nn.BatchNorm1d(n_hidden[1])\n",
    "        self.fc3 = nn.Linear(n_hidden[1], 1)\n",
    "\n",
    "    def forward(self, x):\n",
    "#         self.mem = F.relu(self.fc1(x))\n",
    "#         return self.fc2(F.relu(self.fc1(x)))\n",
    "        return self.fc3(self.bn2(F.relu(self.fc2(self.bn1(F.relu(self.fc1(x)))))))\n",
    "    \n",
    "model2 = Net2()\n",
    "\n",
    "optimizer = optim.Adam(model2.parameters(), lr=lr)\n",
    "\n",
    "start = time.monotonic()\n",
    "\n",
    "for i in range(n_step):\n",
    "    a=autograd.Variable(torch.from_numpy(x_train).view(100,1).float(), requires_grad=False)\n",
    "    b=autograd.Variable(torch.from_numpy(y_train.reshape(100,1)).float())\n",
    "    out = model2(a)\n",
    "    loss = (out-b).pow(2).sum()/100\n",
    "    if i%(int(n_step/min(10,n_step)))==0: \n",
    "        print(f'loss: {loss.data[0]}')\n",
    "#         print(a,out,b)\n",
    "    optimizer.zero_grad()\n",
    "    loss.backward()\n",
    "    optimizer.step()\n",
    "print(f'Time per batch:{(time.monotonic()-start)*1000/n_step} ms')"
   ]
  },
  {
   "cell_type": "code",
   "execution_count": 42,
   "metadata": {},
   "outputs": [
    {
     "data": {
      "image/png": "[encoded data removed]",
      "text/plain": [
       "<Figure size 432x288 with 1 Axes>"
      ]
     },
     "metadata": {},
     "output_type": "display_data"
    }
   ],
   "source": [
    "import matplotlib.pyplot as plt\n",
    "# Data for plotting\n",
    "t = np.linspace(0,1,200)\n",
    "x = Variable(t.reshape(200,1))\n",
    "x_ridge = Variable(featurize(t))\n",
    "x_torch = autograd.Variable(torch.from_numpy(t.reshape(200,1)).float())\n",
    "ridge = dot(x_ridge,w).data\n",
    "mlp = model.forward(x).data\n",
    "mlp_torch = model2(x_torch).data.numpy()\n",
    "# s = model.forward(inpp).data[:,0]\n",
    "# s2 = model2(autograd.Variable(torch.from_numpy(inpp.data).float())).data.numpy()[:,0]\n",
    "# s3 = np.sin(t)\n",
    "\n",
    "plt.subplot(211)\n",
    "# print(s.shape,s2.shape,s3.shape)\n",
    "plt.scatter(x_train,y_train, label=\"data\",s=2)\n",
    "plt.plot(t,ridge, label=\"ridge\")\n",
    "plt.plot(t,mlp, label=\"mlp\")\n",
    "plt.plot(t,mlp_torch, label=\"mlp_torch\")\n",
    "# plt.scatter(x_train,model2.mem[:,0].data.numpy(), label=\"mlp_unit0\",s=2)\n",
    "# plt.scatter(x_train,model2.mem[:,1].data.numpy(), label=\"mlp_unit1\",s=2)\n",
    "# plt.scatter(x_train,model2.mem[:,9].data.numpy(), label=\"mlp_unit9\",s=2)\n",
    "\n",
    "\n",
    "plt.legend(bbox_to_anchor=(0., 1.02, 1., .102), loc=3,\n",
    "           ncol=2, mode=\"expand\", borderaxespad=0.)\n",
    "\n",
    "plt.show()\n"
   ]
  }
 ],
 "metadata": {
  "kernelspec": {
   "display_name": "Python 3",
   "language": "python",
   "name": "python3"
  },
  "language_info": {
   "codemirror_mode": {
    "name": "ipython",
    "version": 3
   },
   "file_extension": ".py",
   "mimetype": "text/x-python",
   "name": "python",
   "nbconvert_exporter": "python",
   "pygments_lexer": "ipython3",
   "version": "3.6.3"
  }
 },
 "nbformat": 4,
 "nbformat_minor": 2
}
